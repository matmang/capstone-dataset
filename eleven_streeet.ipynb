{
 "cells": [
  {
   "cell_type": "code",
   "execution_count": 57,
   "metadata": {},
   "outputs": [],
   "source": [
    "import requests\n",
    "\n",
    "key = \"c9dd360c4421735f526adcfd11a09928\"\n",
    "keyword = \"\"\n",
    "page = 1\n",
    "url = \"http://openapi.11st.co.kr/openapi/OpenApiService.tmall?key=\"+key+\"&apiCode=ProductSearch&keyword=\"+keyword+\"&option=Categories&page=\"+str(page)\n",
    "req = requests.get(url)\n",
    "xmlRowdata = req.content.decode('cp949')"
   ]
  },
  {
   "cell_type": "code",
   "execution_count": 58,
   "metadata": {},
   "outputs": [
    {
     "name": "stderr",
     "output_type": "stream",
     "text": [
      "/Users/matmang/opt/anaconda3/envs/bert-study/lib/python3.10/site-packages/bs4/builder/__init__.py:545: XMLParsedAsHTMLWarning: It looks like you're parsing an XML document using an HTML parser. If this really is an HTML document (maybe it's XHTML?), you can ignore or filter this warning. If it's XML, you should know that using an XML parser will be more reliable. To parse this document as XML, make sure you have the lxml package installed, and pass the keyword argument `features=\"xml\"` into the BeautifulSoup constructor.\n",
      "  warnings.warn(\n"
     ]
    },
    {
     "name": "stdout",
     "output_type": "stream",
     "text": [
      "1000\n"
     ]
    }
   ],
   "source": [
    "from bs4 import BeautifulSoup as bs \n",
    "\n",
    "f = open(\"11streetdata.csv\", \"w\")\n",
    "f.write(\"prodName,category,description\\n\")\n",
    "\n",
    "soup = bs(xmlRowdata,'html.parser')\n",
    "clips = soup.select(\"product\")\n",
    "idx = 0\n",
    "while page < 21:\n",
    "    url = \"http://openapi.11st.co.kr/openapi/OpenApiService.tmall?key=\"+key+\"&apiCode=ProductSearch&keyword=\"+keyword+\"&option=Categories&page=\"+str(page)\n",
    "    req = requests.get(url)\n",
    "    xmlRowdata = req.content.decode('cp949')\n",
    "    clips = soup.select(\"product\")\n",
    "    for cl in clips:\n",
    "        title = cl.select_one(\"productname\").text.strip()\n",
    "        title = title.replace(\",\", \"\")\n",
    "        f.write(title+\",\"+\"null\"+\",\"+\"null\"+\"\\n\")\n",
    "        idx += 1\n",
    "\n",
    "    page += 1\n",
    "# idx = 0\n",
    "# for i in soup.find_all(\"categoryname\"):\n",
    "#     idx += 1\n",
    "#     print(i.text)\n",
    "f.close()\n",
    "print(idx)\n",
    "# print(idx)"
   ]
  },
  {
   "cell_type": "code",
   "execution_count": null,
   "metadata": {},
   "outputs": [],
   "source": []
  },
  {
   "cell_type": "code",
   "execution_count": null,
   "metadata": {},
   "outputs": [],
   "source": []
  },
  {
   "cell_type": "markdown",
   "metadata": {},
   "source": []
  }
 ],
 "metadata": {
  "kernelspec": {
   "display_name": "Python 3",
   "language": "python",
   "name": "python3"
  },
  "language_info": {
   "codemirror_mode": {
    "name": "ipython",
    "version": 3
   },
   "file_extension": ".py",
   "mimetype": "text/x-python",
   "name": "python",
   "nbconvert_exporter": "python",
   "pygments_lexer": "ipython3",
   "version": "3.10.6"
  },
  "orig_nbformat": 4,
  "vscode": {
   "interpreter": {
    "hash": "7fca2708dd49fb4f3d080cbd33a9a1c8e96cf8be39a45e8c4010ad13ca007d90"
   }
  }
 },
 "nbformat": 4,
 "nbformat_minor": 2
}
