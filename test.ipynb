{
 "cells": [
  {
   "cell_type": "code",
   "execution_count": 47,
   "metadata": {},
   "outputs": [],
   "source": [
    "import numpy as np\n",
    "import pandas as pd\n",
    "import matplotlib.pyplot as plt\n",
    "import h5py\n",
    "filename = \"dev.chunk.01\"\n",
    "\n",
    "with h5py.File(filename, \"r\") as f:\n",
    "    a_group_key = list(f.keys())[0]\n",
    "\n",
    "    data = list(f[a_group_key])\n",
    "\n",
    "    data = list(f[a_group_key])\n",
    "    ds_obj = f[a_group_key]\n",
    "    prod_data = f[a_group_key]['product']\n",
    "\n",
    "    # # 텍스트 utf-8로 decode 필요.\n",
    "    df = pd.DataFrame(prod_data, columns=[\"prodName\"])\n",
    "    for i, prod in enumerate(prod_data):\n",
    "        df.loc[i, 'prodName'] = prod.decode('utf-8')\n",
    "    df.to_csv(\"./kakao_prod.csv\", encoding='utf-8-sig')\n"
   ]
  },
  {
   "cell_type": "code",
   "execution_count": null,
   "metadata": {},
   "outputs": [],
   "source": []
  }
 ],
 "metadata": {
  "kernelspec": {
   "display_name": "base",
   "language": "python",
   "name": "python3"
  },
  "language_info": {
   "codemirror_mode": {
    "name": "ipython",
    "version": 3
   },
   "file_extension": ".py",
   "mimetype": "text/x-python",
   "name": "python",
   "nbconvert_exporter": "python",
   "pygments_lexer": "ipython3",
   "version": "3.9.12"
  },
  "orig_nbformat": 4,
  "vscode": {
   "interpreter": {
    "hash": "878965c8b23b02bd593130dd940e5fde32ac2f65d17acbce6df8b40620073426"
   }
  }
 },
 "nbformat": 4,
 "nbformat_minor": 2
}
